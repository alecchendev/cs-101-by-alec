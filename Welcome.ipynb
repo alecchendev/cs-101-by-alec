{
 "cells": [
  {
   "cell_type": "markdown",
   "id": "eaa30bd2-66e9-4e5e-9e74-64413184d152",
   "metadata": {
    "tags": []
   },
   "source": [
    "# Coding Basics\n",
    "\n",
    "Welcome! This chapter is about the basics of programming. We'll learn many of the most fundamental building blocks of coding through examples and exercises. This is tailored towards people who are learning programming for the first time, and either have no or very basic understanding prior to this resource.\n",
    "\n",
    "Topics include:\n",
    "- Variables\n",
    "- Data types\n",
    "- Operators\n",
    "- Functions\n",
    "- Control flow\n",
    "- Lists, loops again\n",
    "- User input\n",
    "\n",
    "At the end there will be a final project, where you'll be implementing a program to play the popular online word game, Wordle!\n",
    "\n",
    "We will be starting out using a tool called \"notebooks\" (often called jupyter notebooks). These allow you to run snippets of code individually, which helps illustrate what each block of code is doing. Try running the code block below by clicking on it and pressing Shift+Enter!\n"
   ]
  },
  {
   "cell_type": "code",
   "execution_count": 1,
   "id": "5be0ba5b-7b7e-43c0-9815-967021818535",
   "metadata": {},
   "outputs": [
    {
     "name": "stdout",
     "output_type": "stream",
     "text": [
      "Hello world!\n"
     ]
    }
   ],
   "source": [
    "print(\"Hello world!\")"
   ]
  },
  {
   "cell_type": "code",
   "execution_count": null,
   "id": "41dad1b9-5a88-47ae-98ce-cf6d09285b0b",
   "metadata": {},
   "outputs": [],
   "source": []
  }
 ],
 "metadata": {
  "kernelspec": {
   "display_name": "Python 3 (ipykernel)",
   "language": "python",
   "name": "python3"
  },
  "language_info": {
   "codemirror_mode": {
    "name": "ipython",
    "version": 3
   },
   "file_extension": ".py",
   "mimetype": "text/x-python",
   "name": "python",
   "nbconvert_exporter": "python",
   "pygments_lexer": "ipython3",
   "version": "3.10.8"
  },
  "vscode": {
   "interpreter": {
    "hash": "b0fa6594d8f4cbf19f97940f81e996739fb7646882a419484c72d19e05852a7e"
   }
  }
 },
 "nbformat": 4,
 "nbformat_minor": 5
}
