{
 "cells": [
  {
   "cell_type": "markdown",
   "id": "374687b7-54d6-4640-9720-b5dfda514847",
   "metadata": {},
   "source": [
    "# Introduction\n",
    "\n",
    "All of computer science can be summarized as:\n",
    "1. Humans talking to computers\n",
    "2. Computers talking to each other\n",
    "3. Computers talking to humans\n",
    "\n",
    "Programming is how we talk to computers and tell them what to do!"
   ]
  },
  {
   "cell_type": "markdown",
   "id": "b20f7221-51a4-44bf-91bc-b136862b6c3c",
   "metadata": {},
   "source": [
    "## Printing\n",
    "\n",
    "One of the most important basic tasks is telling the computer talk back to us.\n",
    "\n",
    "Look what happens when you run the following cell (click on it, then press Shift+Enter)."
   ]
  },
  {
   "cell_type": "code",
   "execution_count": null,
   "id": "49677f72-f3c0-4cd7-b584-6b4a81b575f6",
   "metadata": {},
   "outputs": [],
   "source": [
    "print(\"Hello world!\")"
   ]
  },
  {
   "cell_type": "markdown",
   "id": "27994abd-116a-44b4-b9c8-fa2869fe6449",
   "metadata": {},
   "source": [
    "Try it for yourself! Change the message inside of the double-quotation marks and see what happens!"
   ]
  },
  {
   "cell_type": "code",
   "execution_count": null,
   "id": "7a347101-5bfc-4089-91af-a36518eba47e",
   "metadata": {},
   "outputs": [],
   "source": [
    "print(\"Change me!\")"
   ]
  },
  {
   "cell_type": "markdown",
   "id": "126f757f-3075-4095-a28e-4c77a422ddf3",
   "metadata": {},
   "source": [
    "## Math\n",
    "\n",
    "So we can make computers print letters. What about numbers and math?"
   ]
  },
  {
   "cell_type": "code",
   "execution_count": null,
   "id": "4105240d-25c1-4331-9b6d-095c58785558",
   "metadata": {},
   "outputs": [],
   "source": [
    "print(5 + 6)"
   ]
  },
  {
   "cell_type": "markdown",
   "id": "b2ac93f5-da46-47c8-b6a5-1d6a42467045",
   "metadata": {},
   "source": [
    "When we tell a computer to print numbers, it computes the value of the expression we provide, and then prints the result.\n",
    "\n",
    "See more examples:"
   ]
  },
  {
   "cell_type": "code",
   "execution_count": null,
   "id": "0952a55a-9f2c-4d76-8278-f2803a430da4",
   "metadata": {},
   "outputs": [],
   "source": [
    "print(9 - 2 + 1)"
   ]
  },
  {
   "cell_type": "code",
   "execution_count": null,
   "id": "9ab296a3-dd2e-435d-883b-b115b54359be",
   "metadata": {},
   "outputs": [],
   "source": [
    "print(15 / 7.5)"
   ]
  },
  {
   "cell_type": "code",
   "execution_count": null,
   "id": "ae05dc19-4613-4dd5-9d97-e173931143b2",
   "metadata": {},
   "outputs": [],
   "source": [
    "print((4 + 2) ** 2)"
   ]
  },
  {
   "cell_type": "markdown",
   "id": "291fe573-98c5-4210-bf72-ba0bf866bb0b",
   "metadata": {},
   "source": [
    "Try it for yourself! Fill in the ___'s with numbers or expressions."
   ]
  },
  {
   "cell_type": "code",
   "execution_count": null,
   "id": "1263d7e4-cc2c-427f-8855-9058034645cc",
   "metadata": {},
   "outputs": [],
   "source": [
    "print(___ * 3 / (4 + ___))"
   ]
  },
  {
   "cell_type": "markdown",
   "id": "3106f297-716b-4e2e-a8a4-51b834d052a7",
   "metadata": {},
   "source": [
    "Bonus: Can you guess what the % does?"
   ]
  },
  {
   "cell_type": "code",
   "execution_count": null,
   "id": "6c266f85-263b-4bbe-9f1c-b841f49cd1ad",
   "metadata": {},
   "outputs": [],
   "source": [
    "print(17 % 5)"
   ]
  },
  {
   "cell_type": "markdown",
   "id": "77e2a6ea-d21e-45bc-b688-2e553c370e86",
   "metadata": {},
   "source": [
    "## Comments\n",
    "\n",
    "Often we'll want to include some text within our programs to help communicate what's going on. These are called comments."
   ]
  },
  {
   "cell_type": "code",
   "execution_count": null,
   "id": "08aefe1a-b9f2-4903-a558-ba0f7cb32efa",
   "metadata": {},
   "outputs": [],
   "source": [
    "# This line doesn't run any code, but helps us understand what's happening.\n",
    "\n",
    "# Multiply 3 by 2\n",
    "print(3 * 2)"
   ]
  },
  {
   "cell_type": "code",
   "execution_count": null,
   "id": "5ee93ae3-a31c-4450-b664-fc494ebbe6a7",
   "metadata": {},
   "outputs": [],
   "source": [
    "Without the \"#\" our computer thinks our text is code and get's confused!"
   ]
  },
  {
   "cell_type": "markdown",
   "id": "7145c675-c648-4531-bd00-183c09edd33d",
   "metadata": {},
   "source": [
    "Try it for yourself! Run the following code as it is, then uncomment the print line and see what happens."
   ]
  },
  {
   "cell_type": "code",
   "execution_count": 2,
   "id": "3f1f0938-974f-44f5-9bda-b3269695b956",
   "metadata": {},
   "outputs": [],
   "source": [
    "# Uncomment the following line\n",
    "# print(\"I'm back!\")"
   ]
  },
  {
   "cell_type": "markdown",
   "id": "4f11e0a6-9446-4042-a8a3-292133ecf8a0",
   "metadata": {},
   "source": [
    "### Next chapter: Variables"
   ]
  },
  {
   "cell_type": "code",
   "execution_count": null,
   "id": "afac2b65-bb89-4383-bb76-bac6074bddf3",
   "metadata": {},
   "outputs": [],
   "source": []
  }
 ],
 "metadata": {
  "kernelspec": {
   "display_name": "Python 3.10.8 64-bit",
   "language": "python",
   "name": "python3"
  },
  "language_info": {
   "codemirror_mode": {
    "name": "ipython",
    "version": 3
   },
   "file_extension": ".py",
   "mimetype": "text/x-python",
   "name": "python",
   "nbconvert_exporter": "python",
   "pygments_lexer": "ipython3",
   "version": "3.10.8"
  },
  "vscode": {
   "interpreter": {
    "hash": "b0fa6594d8f4cbf19f97940f81e996739fb7646882a419484c72d19e05852a7e"
   }
  }
 },
 "nbformat": 4,
 "nbformat_minor": 5
}
