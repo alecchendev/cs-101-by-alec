{
 "cells": [
  {
   "cell_type": "markdown",
   "id": "4df34b45-690a-49ab-931a-24bfcdcc84af",
   "metadata": {},
   "source": [
    "# Variables\n",
    "\n",
    "A **variable** is a way to store data while a program is running."
   ]
  },
  {
   "cell_type": "code",
   "execution_count": null,
   "id": "b4f10e93-42db-49a9-9ad2-2d70a993629a",
   "metadata": {},
   "outputs": [],
   "source": [
    "my_var = 8\n",
    "\n",
    "print(my_var)"
   ]
  },
  {
   "cell_type": "markdown",
   "id": "1f9b940a-d38e-49e4-969d-fb2217399f3e",
   "metadata": {},
   "source": [
    "We can store mathematical expressions in variables too."
   ]
  },
  {
   "cell_type": "code",
   "execution_count": null,
   "id": "11c699cf-fbdb-4376-86b6-5183e6bbb7b2",
   "metadata": {},
   "outputs": [],
   "source": [
    "math_var = 1 + 2\n",
    "\n",
    "print(math_var)"
   ]
  },
  {
   "cell_type": "markdown",
   "id": "9d2250e9-451c-45a6-a642-3e0ab37e4b98",
   "metadata": {},
   "source": [
    "Make sure you name your variables starting with letters, and only using letters, numbers, and underscores."
   ]
  },
  {
   "cell_type": "code",
   "execution_count": null,
   "id": "d7c28618-f85e-4599-b584-61b66abec265",
   "metadata": {},
   "outputs": [],
   "source": [
    "my var = 2"
   ]
  },
  {
   "cell_type": "code",
   "execution_count": null,
   "id": "1969db90-abba-479c-911f-104170e54555",
   "metadata": {},
   "outputs": [],
   "source": [
    "1_var = 1"
   ]
  },
  {
   "cell_type": "code",
   "execution_count": null,
   "id": "1619508b-e894-40ae-98bf-121a769c79a0",
   "metadata": {},
   "outputs": [],
   "source": [
    "hello! = 3"
   ]
  },
  {
   "cell_type": "markdown",
   "id": "c18daf03-bb75-446a-98c1-37c1b8ec7d88",
   "metadata": {},
   "source": [
    "Try it for yourself! Initialize a variable named `first_var` and set its value to `8`. Print `first_var` to see if you did it correctly!"
   ]
  },
  {
   "cell_type": "code",
   "execution_count": null,
   "id": "2c147194-2b1b-45e2-a431-4c1b6b01dd53",
   "metadata": {},
   "outputs": [],
   "source": [
    "# Initialize `first_var` to 8\n",
    "___ = ___\n",
    "\n",
    "# print `first_var`\n",
    "print(___)"
   ]
  },
  {
   "cell_type": "markdown",
   "id": "78f419d9-5743-4f6d-9623-5db4f81ccc2d",
   "metadata": {},
   "source": [
    "### Changing variables\n",
    "\n",
    "Variables store data, but that data may vary!"
   ]
  },
  {
   "cell_type": "code",
   "execution_count": null,
   "id": "936cef60-68b7-4978-88ae-b2fa4f9037ee",
   "metadata": {},
   "outputs": [],
   "source": [
    "my_num = 8\n",
    "print(my_num)\n",
    "\n",
    "my_num = 12\n",
    "print(my_num)"
   ]
  },
  {
   "cell_type": "markdown",
   "id": "6270a6e9-da22-4917-a300-3a239086d556",
   "metadata": {},
   "source": [
    "You can even change a variable using the value of the variable at that moment."
   ]
  },
  {
   "cell_type": "code",
   "execution_count": null,
   "id": "eaa549ca-96d8-46d4-93ff-80b26aece4d4",
   "metadata": {},
   "outputs": [],
   "source": [
    "cool_var = 25\n",
    "print(cool_var)\n",
    "\n",
    "cool_var = cool_var + 3\n",
    "print(cool_var)"
   ]
  },
  {
   "cell_type": "markdown",
   "id": "6aeddced-103b-4a8e-a20a-39b0e81554dc",
   "metadata": {},
   "source": [
    "Try it for yourself! Update `double_var` so that it becomes double of what it is initially. If you change the initial value of `double_var`, does it still work?"
   ]
  },
  {
   "cell_type": "code",
   "execution_count": null,
   "id": "74d605bb-270e-44dc-b1e9-44ff5a7033f2",
   "metadata": {},
   "outputs": [],
   "source": [
    "double_var = 200\n",
    "print(double_var)\n",
    "\n",
    "# Your code here!\n",
    "___ = ___ # use `double_var`\n",
    "print(double_var)"
   ]
  },
  {
   "cell_type": "markdown",
   "id": "fa3248f8-5247-4c58-8439-950d5f45dec6",
   "metadata": {},
   "source": [
    "### More Variables\n",
    "\n",
    "Variables are one of the most basic building blocks of programming. They help us store, modify, and organize data.\n",
    "\n",
    "See the example below to see how even just the basic usage of variables we've covered here can start to make complex instructions possible."
   ]
  },
  {
   "cell_type": "code",
   "execution_count": null,
   "id": "1261ec63-4e73-47d7-bffc-92e6c24866f9",
   "metadata": {},
   "outputs": [],
   "source": [
    "# Create variables\n",
    "num_years = 4 # <- Change here\n",
    "days_per_year = 365 \n",
    "hours_per_day = 24\n",
    "mins_per_hour = 60\n",
    "secs_per_min = 60\n",
    "\n",
    "# Calculate number of seconds in four years\n",
    "total_secs = secs_per_min * mins_per_hour * hours_per_day * days_per_year * num_years\n",
    "print(total_secs)"
   ]
  },
  {
   "cell_type": "markdown",
   "id": "07ac3037-daa5-4d01-a0a0-56c5e65488e2",
   "metadata": {},
   "source": [
    "Note that to calculate the number of seconds for say, 7 years, all we have to do is change a single number and run the same code again."
   ]
  },
  {
   "cell_type": "markdown",
   "id": "5b2888d9-20c2-4c23-8954-09cccd0bc686",
   "metadata": {},
   "source": [
    "Try it for yourself! Can you calculate the area of a rectangle using the given variables?"
   ]
  },
  {
   "cell_type": "code",
   "execution_count": null,
   "id": "4a8f1fd1-4fc6-408d-80d4-2633d0ec08b9",
   "metadata": {},
   "outputs": [],
   "source": [
    "length = 10\n",
    "width = 5\n",
    "\n",
    "area = ___ # use `length` and `width`\n",
    "print(area)"
   ]
  },
  {
   "cell_type": "markdown",
   "id": "30619f08-c70d-4418-bfff-a49398a1f9b7",
   "metadata": {},
   "source": [
    "### Next chapter: Data Types"
   ]
  },
  {
   "cell_type": "code",
   "execution_count": null,
   "id": "2004f8a3-4c29-420a-b5eb-972a5b4d1596",
   "metadata": {},
   "outputs": [],
   "source": []
  }
 ],
 "metadata": {
  "kernelspec": {
   "display_name": "Python 3.10.8 64-bit",
   "language": "python",
   "name": "python3"
  },
  "language_info": {
   "codemirror_mode": {
    "name": "ipython",
    "version": 3
   },
   "file_extension": ".py",
   "mimetype": "text/x-python",
   "name": "python",
   "nbconvert_exporter": "python",
   "pygments_lexer": "ipython3",
   "version": "3.10.8"
  },
  "vscode": {
   "interpreter": {
    "hash": "b0fa6594d8f4cbf19f97940f81e996739fb7646882a419484c72d19e05852a7e"
   }
  }
 },
 "nbformat": 4,
 "nbformat_minor": 5
}
