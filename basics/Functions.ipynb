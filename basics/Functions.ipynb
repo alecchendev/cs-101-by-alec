{
 "cells": [
  {
   "cell_type": "markdown",
   "id": "34e8720f",
   "metadata": {},
   "source": [
    "# Functions\n",
    "\n",
    "A **function** is a block of code with a name. They allow you to reuse code without rewriting every step."
   ]
  },
  {
   "cell_type": "code",
   "execution_count": null,
   "id": "a69f5459",
   "metadata": {},
   "outputs": [],
   "source": [
    "def print_twice():\n",
    "    print(\"Hello world\")\n",
    "    print(\"Hello world\")\n",
    "\n",
    "print_twice()"
   ]
  },
  {
   "cell_type": "markdown",
   "id": "9b2866af",
   "metadata": {},
   "source": [
    "Functions can also have inputs and outputs."
   ]
  },
  {
   "cell_type": "code",
   "execution_count": null,
   "id": "08483851",
   "metadata": {},
   "outputs": [],
   "source": [
    "# Here's a function with an input\n",
    "def print_twice(message):\n",
    "    print(message)\n",
    "    print(message)\n",
    "\n",
    "print_twice(\"Functions are cool\")"
   ]
  },
  {
   "cell_type": "code",
   "execution_count": null,
   "id": "4235b443",
   "metadata": {},
   "outputs": [],
   "source": [
    "# Here's a function with inputs and an output\n",
    "def add_two_numbers(a, b):\n",
    "    return a + b\n",
    "\n",
    "print(add_two_numbers(2, 3))"
   ]
  },
  {
   "cell_type": "markdown",
   "id": "1af49eed",
   "metadata": {},
   "source": [
    "For functions with either inputs or outputs, we can pass in variables as inputs, and store their outputs in variables as well."
   ]
  },
  {
   "cell_type": "code",
   "execution_count": null,
   "id": "ff4cd974",
   "metadata": {},
   "outputs": [],
   "source": [
    "x = 4\n",
    "y = 5\n",
    "result = add_two_numbers(x, y)\n",
    "\n",
    "print(result)"
   ]
  },
  {
   "cell_type": "markdown",
   "id": "41fb7f87",
   "metadata": {},
   "source": [
    "As you may have noticed, functions in Python are **defined** with the `def` keyword, followed by the `function_name`, followed by expected inputs in parentheses, then a colon `;`. The following code is indented, and if the function has an output, it'll end with the `return` keyword, and then its `output`.\n",
    "\n",
    "```\n",
    "def function_name(input1, input2, ...):\n",
    "    [code]\n",
    "    ...\n",
    "    return output\n",
    "```\n",
    "\n",
    "Try it for yourself! Write a function that takes two numbers as inputs, multiplies them, and returns the result."
   ]
  },
  {
   "cell_type": "code",
   "execution_count": null,
   "id": "c48effca",
   "metadata": {},
   "outputs": [],
   "source": [
    "def multiply_two_numbers(___, ___):\n",
    "    return ___\n",
    "\n",
    "print(multiply_two_numbers(2, 3))"
   ]
  },
  {
   "cell_type": "markdown",
   "id": "78bbfd6e",
   "metadata": {},
   "source": [
    "You also may have noticed, to use a function you just type `function_name(input1, input2, ...)`. We call this `calling` a function. You've actually been calling the `print()` function this whole time without realizing it!\n",
    "\n",
    "Try it for yourself! Call the following `cube()` function with the variable `num` as input and store the output in the variable `result`."
   ]
  },
  {
   "cell_type": "code",
   "execution_count": null,
   "id": "a2d377a3",
   "metadata": {},
   "outputs": [],
   "source": [
    "def cube(number):\n",
    "    return number * number * number\n",
    "\n",
    "num = 3\n",
    "result = ___\n",
    "\n",
    "print(result)"
   ]
  },
  {
   "cell_type": "markdown",
   "id": "2c77869e",
   "metadata": {},
   "source": [
    "The code inside functions works just like the code outside functions. You are able to use variables and other functions inside a function's block."
   ]
  },
  {
   "cell_type": "code",
   "execution_count": null,
   "id": "6e1ba09d",
   "metadata": {},
   "outputs": [],
   "source": [
    "def create_speech(actor, message):\n",
    "    return actor + \": \" + message\n",
    "\n",
    "def give_alices_speech(message):\n",
    "    actor = \"Alice\"\n",
    "    speech = create_speech(actor, message)\n",
    "    print(speech)\n",
    "\n",
    "give_alices_speech(\"Hello everyone! I'm Alice.\")"
   ]
  },
  {
   "cell_type": "markdown",
   "id": "b03accc5",
   "metadata": {},
   "source": [
    "However, note that variables defined inside of a function cannot be accessed outside of the function. This is called a variable's **scope**, i.e. where it can be accessed. In the following example, notice that `a_squared` is not defined when we try to print it outside of the function."
   ]
  },
  {
   "cell_type": "code",
   "execution_count": null,
   "id": "93d2c3b8",
   "metadata": {},
   "outputs": [],
   "source": [
    "def square_then_add(a, b):\n",
    "    a_squared = a * a\n",
    "    b_squared = b * b\n",
    "    return a_squared + b_squared\n",
    "\n",
    "print(a_squared)"
   ]
  },
  {
   "cell_type": "markdown",
   "id": "1de837e0",
   "metadata": {},
   "source": [
    "### Next chapter: Conditionals"
   ]
  },
  {
   "cell_type": "markdown",
   "id": "0177607e",
   "metadata": {},
   "source": []
  }
 ],
 "metadata": {
  "kernelspec": {
   "display_name": "Python 3.10.8 64-bit",
   "language": "python",
   "name": "python3"
  },
  "language_info": {
   "codemirror_mode": {
    "name": "ipython",
    "version": 3
   },
   "file_extension": ".py",
   "mimetype": "text/x-python",
   "name": "python",
   "nbconvert_exporter": "python",
   "pygments_lexer": "ipython3",
   "version": "3.10.8"
  },
  "vscode": {
   "interpreter": {
    "hash": "b0fa6594d8f4cbf19f97940f81e996739fb7646882a419484c72d19e05852a7e"
   }
  }
 },
 "nbformat": 4,
 "nbformat_minor": 5
}
