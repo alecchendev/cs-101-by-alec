{
 "cells": [
  {
   "cell_type": "markdown",
   "id": "2daa345f-74c2-43f1-9f36-0a841f9a5b24",
   "metadata": {},
   "source": [
    "# Data Types\n",
    "\n",
    "A **data type** is a way of representing data. Every variable has a data type.\n",
    "\n",
    "Python let's us see the type of a variable with the `type()` function."
   ]
  },
  {
   "cell_type": "code",
   "execution_count": null,
   "id": "4627a14d-85b3-495b-a972-8a5a118a1f5a",
   "metadata": {},
   "outputs": [],
   "source": [
    "my_var = 9\n",
    "\n",
    "print(type(my_var))"
   ]
  },
  {
   "cell_type": "markdown",
   "id": "b88f3e79-0033-424d-b2e6-2a04fb0c7582",
   "metadata": {},
   "source": [
    "At the end of the day, a computer is working with 1s and 0s, but us humans work with numbers and letters. Data types are how we can program using different *types* of *data*.\n",
    "\n",
    "When programming, you'll most often be working with numbers, strings (sequences of characters), and booleans (true/false values)."
   ]
  },
  {
   "cell_type": "code",
   "execution_count": null,
   "id": "e4681e6c-7e57-45f2-b1d5-f4c4fedb41c7",
   "metadata": {},
   "outputs": [],
   "source": [
    "my_str = \"Hello world!\"\n",
    "\n",
    "print(type(my_str))"
   ]
  },
  {
   "cell_type": "code",
   "execution_count": null,
   "id": "f94fbf73-241e-4dae-8365-57db41475642",
   "metadata": {},
   "outputs": [],
   "source": [
    "my_bool = False\n",
    "\n",
    "print(type(my_bool))"
   ]
  },
  {
   "cell_type": "markdown",
   "id": "422f7ca7-1747-48ce-9cef-91b8dedaad76",
   "metadata": {},
   "source": [
    "Try it for yourself! Print the type of the variable `my_num`."
   ]
  },
  {
   "cell_type": "code",
   "execution_count": null,
   "id": "53c4633f-5352-4751-9a3a-9a88b2fc76c6",
   "metadata": {},
   "outputs": [],
   "source": [
    "my_num = 3.5\n",
    "\n",
    "print(___)"
   ]
  },
  {
   "cell_type": "markdown",
   "id": "8c878830-1846-46c7-9d89-0c1dcc615cd0",
   "metadata": {},
   "source": [
    "### Integers\n",
    "\n",
    "Integers are whole numbers. We've seen a lot of these already, so we won't go over these as much as the other types."
   ]
  },
  {
   "cell_type": "code",
   "execution_count": null,
   "id": "c3454035-db0e-4e4b-be16-c1e988d7b13e",
   "metadata": {},
   "outputs": [],
   "source": [
    "# Cool feature: integer division with `//`\n",
    "# Divides the first number and rounds down to the nearest integer\n",
    "print(11 // 4)\n",
    "print(11 / 4)"
   ]
  },
  {
   "cell_type": "markdown",
   "id": "d5dbc90a-f73c-4a5d-867e-51f6f9ca82e6",
   "metadata": {},
   "source": [
    "### Floats\n",
    "\n",
    "Floats are numbers with fractional parts. They have numbers after the decimal point."
   ]
  },
  {
   "cell_type": "code",
   "execution_count": null,
   "id": "f443a311-d833-46b7-ae34-e21e3421acb3",
   "metadata": {},
   "outputs": [],
   "source": [
    "x = 4.6\n",
    "\n",
    "print(type(x))"
   ]
  },
  {
   "cell_type": "code",
   "execution_count": null,
   "id": "08a4784d-b138-4c37-a949-d8eb3a8526bd",
   "metadata": {},
   "outputs": [],
   "source": [
    "y = 46 / 10\n",
    "\n",
    "print(y)\n",
    "print(type(y))"
   ]
  },
  {
   "cell_type": "markdown",
   "id": "190911b9-e5a0-4477-a3a4-75a7565c9386",
   "metadata": {},
   "source": [
    "### Strings\n",
    "\n",
    "Strings are sequences of characters. They're what you get if you were to *string* characters together."
   ]
  },
  {
   "cell_type": "code",
   "execution_count": null,
   "id": "659cd50c-53c4-459f-8506-57427f9bb320",
   "metadata": {},
   "outputs": [],
   "source": [
    "str1 = \"goodbye\"\n",
    "str2 = \"again\"\n",
    "\n",
    "# Concatenate strings with the + operator\n",
    "print(str1 + \" \" + str2)"
   ]
  },
  {
   "cell_type": "code",
   "execution_count": null,
   "id": "df1d0246-9e6a-4bf9-9a4d-1e57bdae9127",
   "metadata": {},
   "outputs": [],
   "source": [
    "# Repeat strings with the * operator\n",
    "print(\"wow\" * 3)"
   ]
  },
  {
   "cell_type": "code",
   "execution_count": null,
   "id": "330a8b11-ad18-460f-a7f0-78ae7225c2a3",
   "metadata": {},
   "outputs": [],
   "source": [
    "single_quote_str = 'deadbeef' # Python considers both single and double quotes as strings\n",
    "print(type(single_quote_str))"
   ]
  },
  {
   "cell_type": "markdown",
   "id": "1fbaf988-945e-4985-987d-908ce0afbab5",
   "metadata": {},
   "source": [
    "Try it for yourself! Using the given variables, try to print the greeting message `\"hello hello human!\"`"
   ]
  },
  {
   "cell_type": "code",
   "execution_count": null,
   "id": "c94f6493-f9c6-40c9-bd48-b69fda921118",
   "metadata": {},
   "outputs": [],
   "source": [
    "greeting = \"hello \"\n",
    "being = \"human!\"\n",
    "\n",
    "print(___)"
   ]
  },
  {
   "cell_type": "markdown",
   "id": "9e7d534e-859c-4f26-abbc-dd7d63fae283",
   "metadata": {},
   "source": [
    "### Booleans\n",
    "\n",
    "Booleans are true or false values."
   ]
  },
  {
   "cell_type": "code",
   "execution_count": null,
   "id": "f4504f13-7b49-4eb4-904e-927cb45f853e",
   "metadata": {},
   "outputs": [],
   "source": [
    "my_var = False\n",
    "\n",
    "print(my_var)"
   ]
  },
  {
   "cell_type": "markdown",
   "id": "65755cdc-49ff-46f2-9061-37c13591d118",
   "metadata": {},
   "source": [
    "In programming, we can use operators like `==`, `!=`, `<`, `>=` to compare values of different variables. These comparisons evaluate to boolean values."
   ]
  },
  {
   "cell_type": "code",
   "execution_count": null,
   "id": "5ba98242-2ce3-48ed-acd4-9c810e971a17",
   "metadata": {},
   "outputs": [],
   "source": [
    "print(3 == 3) # == is used to compare if two values are equal\n",
    "print(10 < 5)"
   ]
  },
  {
   "cell_type": "code",
   "execution_count": null,
   "id": "f06b8530-be99-413b-b52c-d6901a9134bf",
   "metadata": {},
   "outputs": [],
   "source": [
    "x = 12\n",
    "\n",
    "# != is used to compare if two values are not equal\n",
    "print(x / 3 != 4)"
   ]
  },
  {
   "cell_type": "markdown",
   "id": "76237141-8b08-47fb-b961-557d01b1445e",
   "metadata": {},
   "source": [
    "Try it for yourself! What does the value of `x` need to be to make the printed expression `True`?"
   ]
  },
  {
   "cell_type": "code",
   "execution_count": null,
   "id": "d88bd823-f826-4925-83c0-2e82bddcc5dc",
   "metadata": {},
   "outputs": [],
   "source": [
    "x = ___\n",
    "y = 32\n",
    "\n",
    "print(x * 2 == y)"
   ]
  },
  {
   "cell_type": "markdown",
   "id": "d6f46347-924a-413e-8db9-2b72b4bc9197",
   "metadata": {},
   "source": [
    "### Type Conversions\n",
    "\n",
    "You can even convert variables of one type to another type if it makes sense."
   ]
  },
  {
   "cell_type": "code",
   "execution_count": null,
   "id": "5afdaec6-c2d4-44d3-b574-2b973e56bc1b",
   "metadata": {},
   "outputs": [],
   "source": [
    "# type conversion from string to int\n",
    "x = \"5\"\n",
    "print(type(x))\n",
    "\n",
    "x = int(x) # 5\n",
    "print(type(x))"
   ]
  },
  {
   "cell_type": "code",
   "execution_count": null,
   "id": "f3c2a2a4-8cf5-4675-8f6d-80b109367616",
   "metadata": {},
   "outputs": [],
   "source": [
    "# type conversion from int to string\n",
    "x = 5\n",
    "print(type(x))\n",
    "\n",
    "x = str(x) # \"5\"\n",
    "print(type(x))"
   ]
  },
  {
   "cell_type": "markdown",
   "id": "042bed95-0d12-41b6-9f86-6961895e5491",
   "metadata": {},
   "source": [
    "Try it for yourself! Try to turn the variable `f` into an integer, then a string."
   ]
  },
  {
   "cell_type": "code",
   "execution_count": null,
   "id": "65360cad-df58-4d8c-9cab-5645caedf0c0",
   "metadata": {},
   "outputs": [],
   "source": [
    "f = 2.31\n",
    "f_int = ___\n",
    "\n",
    "print(f_int)\n",
    "print(type(f_int))"
   ]
  },
  {
   "cell_type": "code",
   "execution_count": null,
   "id": "46f195d6-0612-4356-a6ba-8a5a022d7e71",
   "metadata": {},
   "outputs": [],
   "source": [
    "f_str = ___\n",
    "\n",
    "print(f_str)\n",
    "print(type(f_str))"
   ]
  },
  {
   "cell_type": "markdown",
   "id": "9f727cbb-445f-42c4-9296-763a3f2064bb",
   "metadata": {},
   "source": [
    "### Next chapter: Functions"
   ]
  },
  {
   "cell_type": "code",
   "execution_count": null,
   "id": "b79e5945-c0bc-4dd9-ae68-fedcef4df6eb",
   "metadata": {},
   "outputs": [],
   "source": []
  }
 ],
 "metadata": {
  "kernelspec": {
   "display_name": "Python 3 (ipykernel)",
   "language": "python",
   "name": "python3"
  },
  "language_info": {
   "codemirror_mode": {
    "name": "ipython",
    "version": 3
   },
   "file_extension": ".py",
   "mimetype": "text/x-python",
   "name": "python",
   "nbconvert_exporter": "python",
   "pygments_lexer": "ipython3",
   "version": "3.10.8"
  }
 },
 "nbformat": 4,
 "nbformat_minor": 5
}
