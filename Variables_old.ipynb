{
 "cells": [
  {
   "cell_type": "markdown",
   "id": "eaa30bd2-66e9-4e5e-9e74-64413184d152",
   "metadata": {
    "tags": []
   },
   "source": [
    "# Variables\n",
    "\n",
    "A **variable** is a way to store some data while a program is running.\n",
    "\n",
    "In notebooks, we can just type the name of our variable to see what it is!"
   ]
  },
  {
   "cell_type": "code",
   "execution_count": 30,
   "id": "5be0ba5b-7b7e-43c0-9815-967021818535",
   "metadata": {},
   "outputs": [
    {
     "name": "stdout",
     "output_type": "stream",
     "text": [
      "8\n"
     ]
    }
   ],
   "source": [
    "my_variable = 8\n",
    "\n",
    "print(my_variable)"
   ]
  },
  {
   "cell_type": "markdown",
   "id": "9564b958",
   "metadata": {},
   "source": [
    "As they're name implies, variables are also changeable."
   ]
  },
  {
   "cell_type": "code",
   "execution_count": 2,
   "id": "4008886c",
   "metadata": {},
   "outputs": [
    {
     "data": {
      "text/plain": [
       "10"
      ]
     },
     "execution_count": 2,
     "metadata": {},
     "output_type": "execute_result"
    }
   ],
   "source": [
    "my_number = 8\n",
    "my_number = 10\n",
    "\n",
    "print(my_number)"
   ]
  },
  {
   "cell_type": "code",
   "execution_count": 31,
   "id": "8df55cc0",
   "metadata": {},
   "outputs": [
    {
     "name": "stdout",
     "output_type": "stream",
     "text": [
      "5\n"
     ]
    }
   ],
   "source": [
    "my_var = 3\n",
    "my_var = my_var + 2\n",
    "\n",
    "print(my_var)"
   ]
  },
  {
   "cell_type": "markdown",
   "id": "6b06d152",
   "metadata": {},
   "source": [
    "It's helpful to store data in variables because they allow us to do two special things.\n",
    "\n",
    "The first is that they allow us to change how a program might run. In the following example, run the cell, then change the variable and run it again."
   ]
  },
  {
   "cell_type": "code",
   "execution_count": 5,
   "id": "8e6a9287",
   "metadata": {},
   "outputs": [
    {
     "name": "stdout",
     "output_type": "stream",
     "text": [
      "Three is the magic number!\n"
     ]
    }
   ],
   "source": [
    "magic_number = 3 # CHANGE ME!\n",
    "\n",
    "if magic_number == 3:\n",
    "    print(\"Three is the magic number!\")\n",
    "else:\n",
    "    print(\"Three is not the magic number!\")"
   ]
  },
  {
   "cell_type": "markdown",
   "id": "8f88def2",
   "metadata": {},
   "source": [
    "The second helpful thing about variables is that they allow us to give names to different pieces of data, so that we can organize and understand our code better.\n",
    "\n",
    "The following two code blocks do the same thing. Which one do you think is easier to make sense of?"
   ]
  },
  {
   "cell_type": "code",
   "execution_count": 6,
   "id": "bedd175c",
   "metadata": {},
   "outputs": [
    {
     "name": "stdout",
     "output_type": "stream",
     "text": [
      "It's great weather for shorts!\n"
     ]
    }
   ],
   "source": [
    "if (20 * 9 / 5) + 32 < 65:\n",
    "    print(\"It's too cold for shorts!\")\n",
    "else:\n",
    "    print(\"It's great weather for shorts!\")"
   ]
  },
  {
   "cell_type": "code",
   "execution_count": 10,
   "id": "6867f568",
   "metadata": {},
   "outputs": [
    {
     "name": "stdout",
     "output_type": "stream",
     "text": [
      "It's great weather for shorts!\n"
     ]
    }
   ],
   "source": [
    "temperature_celsius = 20 # CHANGE ME TO 15 AND SEE WHAT HAPPENS\n",
    "temperature_farenheit = (temperature_celsius * 9 / 5) + 32\n",
    "coldness_threshold = 65\n",
    "\n",
    "if temperature_farenheit < coldness_threshold:\n",
    "    print(\"It's too cold for shorts!\")\n",
    "else:\n",
    "    print(\"It's great weather for shorts!\")"
   ]
  },
  {
   "cell_type": "markdown",
   "id": "d5e6ac29",
   "metadata": {},
   "source": [
    "### Exercises\n",
    "\n",
    "#### Exercise 1\n",
    "Create a variable called `population` and set its value to `8`. After the first `print` statement, change the value of `population` to `12`."
   ]
  },
  {
   "cell_type": "code",
   "execution_count": 11,
   "id": "50f45356",
   "metadata": {},
   "outputs": [
    {
     "name": "stdout",
     "output_type": "stream",
     "text": [
      "The year was 2022, the population was 8 billion people.\n",
      "\n",
      "The world adapted to incorporate sustainable infrastructure that allowed for a spike in birth rate.\n",
      "The year is 2031, the population is now 12 billion people.\n"
     ]
    }
   ],
   "source": [
    "# Declare your variable here\n",
    "\n",
    "\n",
    "# ---\n",
    "print(\"The year was 2022, the population was\", population, \"billion people.\\n\")\n",
    "# ---\n",
    "# Change the value of your variable here\n",
    "\n",
    "\n",
    "# ---\n",
    "print(\"The world adapted to incorporate sustainable infrastructure that allowed for a spike in birth rate.\")\n",
    "print(\"The year is 2031, the population is now\", population, \"billion people.\")"
   ]
  },
  {
   "cell_type": "markdown",
   "id": "368e192f",
   "metadata": {},
   "source": [
    "#### Exercise 2\n",
    "\n",
    "The following code describes a household that has a cookie-rationing issue. They are writing a program to track the number of cookies eaten and how many cookies remain after a certain amount of time.\n",
    "\n",
    "Use the given variables to fill in the missing details that can inform the household about the state of its cookie situation. Does your output make sense?"
   ]
  },
  {
   "cell_type": "code",
   "execution_count": 13,
   "id": "b45c6dbc",
   "metadata": {},
   "outputs": [
    {
     "name": "stdout",
     "output_type": "stream",
     "text": [
      "It's day 8  and there are 25 cookies in the jar. I predict it's only a matter of time until there are few remaining.\n",
      "\n",
      "3 days have passed. It is now day 11 and 21 cookies have been eaten. There are now only 4 cookies left in the jar. My prediction was accurate.\n"
     ]
    }
   ],
   "source": [
    "# Initial conditions\n",
    "current_day = 0\n",
    "cookies_in_jar = 25\n",
    "cookies_eaten_per_day = 7\n",
    "\n",
    "# ---\n",
    "print(\"It's day\", current_day, \" and there are\", cookies_in_jar, \"cookies in the jar. I predict it's only a matter of time until there are few remaining.\\n\")\n",
    "# ---\n",
    "# Time passes ...\n",
    "days_passed = 3\n",
    "current_day = # use `days_passed` to update the value of `day`\n",
    "\n",
    "# How many cookies are in the jar now?\n",
    "cookies_eaten = # use `cookies_eaten_per_day` and `days_passed`\n",
    "cookies_in_jar = # use `cookies_in_jar` and `cookies_eaten`\n",
    "\n",
    "# ---\n",
    "print(days_passed, \"days have passed. It is now day\", current_day, \"and\", cookies_eaten, \"cookies have been eaten. There are now only\", cookies_in_jar, \"cookies left in the jar. My prediction was accurate.\")"
   ]
  },
  {
   "cell_type": "markdown",
   "id": "c138f21b",
   "metadata": {},
   "source": [
    "\n",
    "That's it for variables! Don't worry if you didn't understand everything. We will continue exploring these topics in following content!"
   ]
  },
  {
   "cell_type": "markdown",
   "id": "478faf0e",
   "metadata": {},
   "source": []
  }
 ],
 "metadata": {
  "kernelspec": {
   "display_name": "Python 3 (ipykernel)",
   "language": "python",
   "name": "python3"
  },
  "language_info": {
   "codemirror_mode": {
    "name": "ipython",
    "version": 3
   },
   "file_extension": ".py",
   "mimetype": "text/x-python",
   "name": "python",
   "nbconvert_exporter": "python",
   "pygments_lexer": "ipython3",
   "version": "3.10.8"
  },
  "vscode": {
   "interpreter": {
    "hash": "b0fa6594d8f4cbf19f97940f81e996739fb7646882a419484c72d19e05852a7e"
   }
  }
 },
 "nbformat": 4,
 "nbformat_minor": 5
}
