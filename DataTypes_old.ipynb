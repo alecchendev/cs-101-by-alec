{
 "cells": [
  {
   "cell_type": "markdown",
   "id": "eaa30bd2-66e9-4e5e-9e74-64413184d152",
   "metadata": {
    "tags": []
   },
   "source": [
    "# Data Types\n",
    "\n",
    "Every variable has a **data type**. They are different ways of representing data. At the end of the day, a computer is working with 1s and 0s, but us humans work with numbers, letters, and more. Data types are how we can program using different *types* of *data*.\n",
    "\n",
    "When programming, you'll most often be working with numbers, letters, and true or false values.\n",
    "\n",
    "Let's see how each one can be used."
   ]
  },
  {
   "cell_type": "markdown",
   "id": "2a271735",
   "metadata": {},
   "source": [
    "### Integers\n",
    "\n",
    "In Python, numbers are represented at integers (whole numbers), or floats (non-whole numbers). \n"
   ]
  },
  {
   "cell_type": "code",
   "execution_count": null,
   "id": "5be0ba5b-7b7e-43c0-9815-967021818535",
   "metadata": {},
   "outputs": [],
   "source": [
    "my_var = 5\n",
    "my_var2 = -25 + 3\n",
    "\n",
    "print(type(my_var))\n",
    "print(type(my_var2))\n",
    "print(type(55))"
   ]
  },
  {
   "cell_type": "markdown",
   "id": "6c9baed9",
   "metadata": {},
   "source": [
    "You can have your program do math with these numbers!"
   ]
  },
  {
   "cell_type": "code",
   "execution_count": null,
   "id": "11c13eb7",
   "metadata": {},
   "outputs": [],
   "source": [
    "print(5 * 6)\n",
    "print(9 % 2) # % = modulo = remainder\n",
    "print(5 ** 2) # ** = exponent\n",
    "print((1 + 3) * (9 - 2) / 2)"
   ]
  },
  {
   "cell_type": "code",
   "execution_count": null,
   "id": "edb1e0b7",
   "metadata": {},
   "outputs": [],
   "source": [
    "x = 10\n",
    "y = 4\n",
    "\n",
    "print(x + y)\n",
    "print(x * y + 2 * x - 3 * y)"
   ]
  },
  {
   "cell_type": "markdown",
   "id": "4261ee2b",
   "metadata": {},
   "source": [
    "### Floats\n",
    "\n",
    "Floats are non-whole numbers, i.e. floating-point numbers."
   ]
  },
  {
   "cell_type": "code",
   "execution_count": null,
   "id": "bb7f8b30",
   "metadata": {},
   "outputs": [],
   "source": [
    "my_var = 3.2\n",
    "my_var2 = 10/3\n",
    "\n",
    "print(type(my_var))\n",
    "print(type(my_var2))"
   ]
  },
  {
   "cell_type": "markdown",
   "id": "41a6766c",
   "metadata": {},
   "source": [
    "Most mathematical operations that apply to integers also apply to floats. A function that's useful just for floats is the `round()` function will lets you round to a specified numbers of decimals. (We haven't covered functions yet, so don't worry if you don't understand them quite yet. We'll cover them in the next section!)"
   ]
  },
  {
   "cell_type": "code",
   "execution_count": null,
   "id": "8ad6d8a9",
   "metadata": {},
   "outputs": [],
   "source": [
    "# Round to 5 decimal places\n",
    "almost_pi = 22/7\n",
    "rounded_pi = round(almost_pi, 5)\n",
    "print(\"almost_pi:\\t\", almost_pi)\n",
    "print(\"rounded_pi:\\t\", rounded_pi)"
   ]
  },
  {
   "cell_type": "markdown",
   "id": "ebb51e16",
   "metadata": {},
   "source": [
    "### Strings\n",
    "\n",
    "Letters are represented often as a sequence of characters, or a string of characters, i.e. `str`.\n"
   ]
  },
  {
   "cell_type": "code",
   "execution_count": null,
   "id": "88ec17d8",
   "metadata": {},
   "outputs": [],
   "source": [
    "my_var = \"hello\"\n",
    "my_var2 = 'goodbye' # Python considers both single and double quotes as strings\n",
    "my_var3 = \"\" # empty string is still a string\n",
    "\n",
    "print(type(my_var))\n",
    "print(type(my_var2))\n",
    "print(type(my_var3))"
   ]
  },
  {
   "cell_type": "markdown",
   "id": "37c9cc7a",
   "metadata": {},
   "source": [
    "Strings have their own ways of interacting together."
   ]
  },
  {
   "cell_type": "code",
   "execution_count": null,
   "id": "f65b5422",
   "metadata": {},
   "outputs": [],
   "source": [
    "print(\"hello\" + \" \" + \"world\")\n",
    "print(\"hello\" * 3)"
   ]
  },
  {
   "cell_type": "markdown",
   "id": "4d6c978e",
   "metadata": {},
   "source": [
    "### REMOVE!\n",
    "You can get individual characters or subsections of a string with the `[]` operator."
   ]
  },
  {
   "cell_type": "code",
   "execution_count": null,
   "id": "c0296a4e",
   "metadata": {},
   "outputs": [],
   "source": [
    "my_string = \"hello\"\n",
    "print(my_string[0])\n",
    "print(my_string[-1]) # last character\n",
    "print(my_string[1:3]) # [start:stop] (stop is not included)"
   ]
  },
  {
   "cell_type": "markdown",
   "id": "4f5226ce",
   "metadata": {},
   "source": [
    "There's a neat function `len()` that gets the length of a string."
   ]
  },
  {
   "cell_type": "code",
   "execution_count": null,
   "id": "af72439f",
   "metadata": {},
   "outputs": [],
   "source": [
    "my_string = \"fruit\"\n",
    "print(len(my_string))\n",
    "\n",
    "empty_string = \"\"\n",
    "print(len(empty_string))"
   ]
  },
  {
   "cell_type": "markdown",
   "id": "84bd19eb",
   "metadata": {},
   "source": [
    "### Booleans\n",
    "\n",
    "True or false values are called booleans, i.e. `bool`."
   ]
  },
  {
   "cell_type": "code",
   "execution_count": null,
   "id": "c067b4ad",
   "metadata": {},
   "outputs": [],
   "source": [
    "my_var = True\n",
    "my_var2 = False\n",
    "\n",
    "print(type(my_var))\n",
    "print(type(my_var2))"
   ]
  },
  {
   "cell_type": "markdown",
   "id": "68623738",
   "metadata": {},
   "source": [
    "Booleans are really special for two reasons.\n",
    "\n",
    "The first is that you can make comparisons between values and they will evaluate to booleans."
   ]
  },
  {
   "cell_type": "code",
   "execution_count": null,
   "id": "f5eb880f",
   "metadata": {},
   "outputs": [],
   "source": [
    "print(3 == 5)\n",
    "print(3 * 2 == 6)\n",
    "print(20 < 25)"
   ]
  },
  {
   "cell_type": "markdown",
   "id": "982fb7a0",
   "metadata": {},
   "source": [
    "The second is that you can combine booleans to express many different things.\n",
    "\n",
    "Booleans have special operators. Some of the main ones include `not`, `and`, and `or`."
   ]
  },
  {
   "cell_type": "code",
   "execution_count": null,
   "id": "e014cc45",
   "metadata": {},
   "outputs": [],
   "source": [
    "my_var = False\n",
    "print(not my_var)"
   ]
  },
  {
   "cell_type": "markdown",
   "id": "03676e39",
   "metadata": {},
   "source": [
    "### REMOVE AND + OR"
   ]
  },
  {
   "cell_type": "code",
   "execution_count": null,
   "id": "d46c53fb",
   "metadata": {},
   "outputs": [],
   "source": [
    "print(False and False)\n",
    "print(False and True)\n",
    "print(True and False)\n",
    "print(True and True)"
   ]
  },
  {
   "cell_type": "code",
   "execution_count": null,
   "id": "b3418c6a",
   "metadata": {},
   "outputs": [],
   "source": [
    "print(False or False)\n",
    "print(False or True)\n",
    "print(True or False)\n",
    "print(True or True)"
   ]
  },
  {
   "cell_type": "code",
   "execution_count": null,
   "id": "26109b6f",
   "metadata": {},
   "outputs": [],
   "source": [
    "temp = 70\n",
    "too_cold = temp < 60\n",
    "too_hot = temp > 80\n",
    "just_right = not too_cold and not too_hot\n",
    "print(just_right)"
   ]
  },
  {
   "cell_type": "markdown",
   "id": "cedd21c7",
   "metadata": {},
   "source": [
    "#### Type Conversions\n",
    "\n",
    "You can even convert variables of one type to another type if it makes sense."
   ]
  },
  {
   "cell_type": "code",
   "execution_count": null,
   "id": "a4bf092f",
   "metadata": {},
   "outputs": [],
   "source": [
    "# type conversion from string to int\n",
    "x = \"5\"\n",
    "print(type(x))\n",
    "\n",
    "x = int(x) # 5\n",
    "print(type(x))"
   ]
  },
  {
   "cell_type": "code",
   "execution_count": null,
   "id": "97b20bae-9e86-4900-b882-aa4ac57c5917",
   "metadata": {},
   "outputs": [],
   "source": [
    "# type conversion from int to string\n",
    "x = 5\n",
    "print(type(x))\n",
    "\n",
    "x = str(x) # \"5\"\n",
    "print(type(x))"
   ]
  },
  {
   "cell_type": "markdown",
   "id": "0768ab1c",
   "metadata": {},
   "source": [
    "### Exercises\n",
    "\n",
    "#### Exercise 1\n",
    "What are the types of the following?"
   ]
  },
  {
   "cell_type": "code",
   "execution_count": 98,
   "id": "250629f2",
   "metadata": {},
   "outputs": [
    {
     "name": "stdout",
     "output_type": "stream",
     "text": [
      "Correct!\n"
     ]
    },
    {
     "data": {
      "text/plain": [
       "[0, 1, 2, 3, 4, 5, 6, 7, 8, 9]"
      ]
     },
     "execution_count": 98,
     "metadata": {},
     "output_type": "execute_result"
    }
   ],
   "source": [
    "\n",
    "x = 501\n",
    "type_of_x = # int/float/str/bool\n",
    "\n",
    "if type_of_x == type(x):\n",
    "    print(\"Correct!\")\n",
    "else:\n",
    "    print(\"Incorrect. Try again!\")"
   ]
  },
  {
   "cell_type": "code",
   "execution_count": null,
   "id": "1b65ab5f",
   "metadata": {},
   "outputs": [],
   "source": [
    "\n",
    "x = 14.5\n",
    "type_of_x = # int/float/str/bool\n",
    "\n",
    "if type_of_x == type(x):\n",
    "    print(\"Correct!\")\n",
    "else:\n",
    "    print(\"Incorrect. Try again!\")\n"
   ]
  },
  {
   "cell_type": "code",
   "execution_count": null,
   "id": "112b0bfc",
   "metadata": {},
   "outputs": [],
   "source": [
    "\n",
    "x = True\n",
    "type_of_x = # int/float/str/bool\n",
    "\n",
    "if type_of_x == type(x):\n",
    "    print(\"Correct!\")\n",
    "else:\n",
    "    print(\"Incorrect. Try again!\")\n"
   ]
  },
  {
   "cell_type": "code",
   "execution_count": null,
   "id": "ba2a7df5",
   "metadata": {},
   "outputs": [],
   "source": [
    "\n",
    "x = \"supercalifragilisticexpialidocious\"\n",
    "type_of_x = # int/float/str/bool\n",
    "\n",
    "if type_of_x == type(x):\n",
    "    print(\"Correct!\")\n",
    "else:\n",
    "    print(\"Incorrect. Try again!\")\n"
   ]
  },
  {
   "cell_type": "code",
   "execution_count": null,
   "id": "2a1ed966",
   "metadata": {},
   "outputs": [],
   "source": [
    "x = 3 + 5 < 10\n",
    "type_of_x = # int/float/str/bool\n",
    "\n",
    "if type_of_x == type(x):\n",
    "    print(\"Correct!\")\n",
    "else:\n",
    "    print(\"Incorrect. Try again!\")"
   ]
  },
  {
   "cell_type": "code",
   "execution_count": null,
   "id": "5b5b39b1",
   "metadata": {},
   "outputs": [],
   "source": [
    "y = 6.7\n",
    "z = 8\n",
    "z_plus_y = z + y\n",
    "type_of_z_plus_y = # int/float/str/bool\n",
    "\n",
    "if type_of_z_plus_y == type(z_plus_y):\n",
    "    print(\"Correct!\")\n",
    "else:\n",
    "    print(\"Incorrect. Try again!\")"
   ]
  },
  {
   "cell_type": "markdown",
   "id": "178ee3f1",
   "metadata": {},
   "source": [
    "#### Exercise 2\n",
    "\n",
    "Boolean algebra! Solve the expressions below!"
   ]
  },
  {
   "cell_type": "code",
   "execution_count": null,
   "id": "8f677b8a",
   "metadata": {},
   "outputs": [],
   "source": [
    "# What does the following expression evaluate to?\n",
    "z = 3.146789\n",
    "expression = z > 3.14 \n",
    "answer = # ???\n",
    "\n",
    "if expression == answer:\n",
    "    print(\"Correct!\")\n",
    "else:\n",
    "    print(\"Incorrect. Try again!\")"
   ]
  },
  {
   "cell_type": "code",
   "execution_count": null,
   "id": "8cfe0551",
   "metadata": {},
   "outputs": [],
   "source": [
    "# What does the following expression evaluate to?\n",
    "x = 15\n",
    "y = \"cheese\"\n",
    "expression = y == \"fromage\" or x > 10\n",
    "answer = # ???\n",
    "\n",
    "if expression == answer:\n",
    "    print(\"Correct!\")\n",
    "else:\n",
    "    print(\"Incorrect. Try again!\")"
   ]
  },
  {
   "cell_type": "markdown",
   "id": "665bebc9",
   "metadata": {},
   "source": [
    "#### Exercise 3\n",
    "Below is a type conversion. Evaluate the expression given what you've learned above. (This is a tricky one!)"
   ]
  },
  {
   "cell_type": "code",
   "execution_count": null,
   "id": "6350b79b",
   "metadata": {},
   "outputs": [],
   "source": [
    "# What does the following expression evaluate to?\n",
    "z = 3.146789\n",
    "expression = str(round(z, 2))\n",
    "answer = # ???\n",
    "\n",
    "if expression == answer:\n",
    "    print(\"Correct!\")\n",
    "else:\n",
    "    print(\"Incorrect. Try again!\")"
   ]
  }
 ],
 "metadata": {
  "kernelspec": {
   "display_name": "Python 3 (ipykernel)",
   "language": "python",
   "name": "python3"
  },
  "language_info": {
   "codemirror_mode": {
    "name": "ipython",
    "version": 3
   },
   "file_extension": ".py",
   "mimetype": "text/x-python",
   "name": "python",
   "nbconvert_exporter": "python",
   "pygments_lexer": "ipython3",
   "version": "3.10.8"
  },
  "vscode": {
   "interpreter": {
    "hash": "b0fa6594d8f4cbf19f97940f81e996739fb7646882a419484c72d19e05852a7e"
   }
  }
 },
 "nbformat": 4,
 "nbformat_minor": 5
}
